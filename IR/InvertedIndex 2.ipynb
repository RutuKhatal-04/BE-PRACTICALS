{
 "cells": [
  {
   "cell_type": "code",
   "execution_count": 1,
   "metadata": {},
   "outputs": [
    {
     "name": "stdout",
     "output_type": "stream",
     "text": [
      "Token1 : ['the', 'quick', 'brown', 'fox', 'jumped', 'over', 'the', 'lazy', 'dog.']\n",
      "\n",
      "\n",
      "Token2 : ['the', 'lazy', 'dog', 'slept', 'in', 'the', 'sun.']\n",
      "Terms : ['dog', 'quick', 'sun.', 'brown', 'over', 'the', 'in', 'slept', 'fox', 'lazy', 'dog.', 'jumped']\n",
      "Inverted Index Dictionary : \n",
      "{'dog': ['Document 2'], 'quick': ['Document 1'], 'sun.': ['Document 2'], 'brown': ['Document 1'], 'over': ['Document 1'], 'the': ['Document 1', 'Document 2'], 'in': ['Document 2'], 'slept': ['Document 2'], 'fox': ['Document 1'], 'lazy': ['Document 1', 'Document 2'], 'dog.': ['Document 1'], 'jumped': ['Document 1']}\n",
      "dog -> Document 2\n",
      "quick -> Document 1\n",
      "sun. -> Document 2\n",
      "brown -> Document 1\n",
      "over -> Document 1\n",
      "the -> Document 1, Document 2\n",
      "in -> Document 2\n",
      "slept -> Document 2\n",
      "fox -> Document 1\n",
      "lazy -> Document 1, Document 2\n",
      "dog. -> Document 1\n",
      "jumped -> Document 1\n"
     ]
    }
   ],
   "source": [
    "\n",
    "document1 = \"The quick brown fox jumped over the lazy dog.\" \n",
    "document2 = \"The lazy dog slept in the sun.\"\n",
    "# Convert each document to lowercase and split it into words\n",
    "tokens1 = document1.lower().split()\n",
    "tokens2 = document2.lower().split()\n",
    "print(f\"Token1 : {tokens1}\")\n",
    "print(f\"\\n\\nToken2 : {tokens2}\")\n",
    " #Combine the tokens into a list of unique terms\n",
    "terms = list(set(tokens1 + tokens2))\n",
    "print(f\"Terms : {terms}\")\n",
    "# Create an empty dictionary to store the inverted index \n",
    "inverted_index = {}\n",
    "\n",
    "# For each term, find the documents that contain it \n",
    "for term in terms:\n",
    "    documents = []\n",
    "    if term in tokens1: \n",
    "        documents.append(\"Document 1\")\n",
    "    if term in tokens2: \n",
    "        documents.append(\"Document 2\")\n",
    "    inverted_index[term] = documents\n",
    "\n",
    "print(f\"Inverted Index Dictionary : \\n{inverted_index}\")\n",
    "\n",
    "# Print inverted index\n",
    "for term, documents in inverted_index.items(): \n",
    "    print(f\"{term} -> {', '.join(documents)}\")"
   ]
  },
  {
   "cell_type": "code",
   "execution_count": null,
   "metadata": {},
   "outputs": [],
   "source": []
  }
 ],
 "metadata": {
  "kernelspec": {
   "display_name": "Python 3",
   "language": "python",
   "name": "python3"
  },
  "language_info": {
   "codemirror_mode": {
    "name": "ipython",
    "version": 3
   },
   "file_extension": ".py",
   "mimetype": "text/x-python",
   "name": "python",
   "nbconvert_exporter": "python",
   "pygments_lexer": "ipython3",
   "version": "3.10.11"
  }
 },
 "nbformat": 4,
 "nbformat_minor": 2
}
