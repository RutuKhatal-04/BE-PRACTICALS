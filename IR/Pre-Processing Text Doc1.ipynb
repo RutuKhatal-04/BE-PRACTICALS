{
 "cells": [
  {
   "cell_type": "code",
   "execution_count": 2,
   "metadata": {},
   "outputs": [
    {
     "name": "stdout",
     "output_type": "stream",
     "text": [
      "Original Words:\n",
      "['This', 'is', 'a', 'simple', 'text', 'document', 'for', 'testing', 'text', 'preprocessing', '.', 'Programmers', 'program', 'with', 'different', 'programming', 'languages', '.']\n",
      "\n",
      "After Removing Stop Words:\n",
      "['simple', 'text', 'document', 'testing', 'text', 'preprocessing', '.', 'Programmers', 'program', 'different', 'programming', 'languages', '.']\n",
      "\n",
      "After Stemming:\n",
      "['simpl', 'text', 'document', 'test', 'text', 'preprocess', '.', 'programm', 'program', 'differ', 'program', 'languag', '.']\n"
     ]
    },
    {
     "name": "stderr",
     "output_type": "stream",
     "text": [
      "[nltk_data] Downloading package stopwords to\n",
      "[nltk_data]     C:\\Users\\khata\\AppData\\Roaming\\nltk_data...\n",
      "[nltk_data]   Package stopwords is already up-to-date!\n",
      "[nltk_data] Downloading package punkt to\n",
      "[nltk_data]     C:\\Users\\khata\\AppData\\Roaming\\nltk_data...\n",
      "[nltk_data]   Package punkt is already up-to-date!\n"
     ]
    }
   ],
   "source": [
    "import nltk\n",
    "from nltk.corpus import stopwords\n",
    "from nltk.tokenize import word_tokenize\n",
    "from nltk.stem import PorterStemmer\n",
    "\n",
    "# Download necessary NLTK data (only needs to be done once)\n",
    "nltk.download('stopwords')\n",
    "nltk.download('punkt')\n",
    "\n",
    "# Sample text\n",
    "text = \"This is a simple text document for testing text preprocessing. Programmers program with different programming languages.\"\n",
    "\n",
    "# Step 1: Tokenize the text\n",
    "words = word_tokenize(text)\n",
    "print(f\"Original Words:\\n{words}\")\n",
    "\n",
    "# Step 2: Remove stop words\n",
    "stop_words = set(stopwords.words('english'))\n",
    "filtered_words = [word for word in words if word.lower() not in stop_words]\n",
    "print(f\"\\nAfter Removing Stop Words:\\n{filtered_words}\")\n",
    "\n",
    "# Step 3: Apply stemming\n",
    "ps = PorterStemmer()\n",
    "stemmed_words = [ps.stem(word) for word in filtered_words]\n",
    "print(f\"\\nAfter Stemming:\\n{stemmed_words}\")\n"
   ]
  },
  {
   "cell_type": "code",
   "execution_count": null,
   "metadata": {},
   "outputs": [],
   "source": []
  }
 ],
 "metadata": {
  "kernelspec": {
   "display_name": "Python 3",
   "language": "python",
   "name": "python3"
  },
  "language_info": {
   "codemirror_mode": {
    "name": "ipython",
    "version": 3
   },
   "file_extension": ".py",
   "mimetype": "text/x-python",
   "name": "python",
   "nbconvert_exporter": "python",
   "pygments_lexer": "ipython3",
   "version": "3.10.11"
  }
 },
 "nbformat": 4,
 "nbformat_minor": 2
}
