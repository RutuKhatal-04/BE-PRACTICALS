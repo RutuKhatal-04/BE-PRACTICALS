{
 "cells": [
  {
   "cell_type": "code",
   "execution_count": 1,
   "metadata": {},
   "outputs": [
    {
     "name": "stdout",
     "output_type": "stream",
     "text": [
      "PageRank scores: {'A': 0.372526851328434, 'B': 0.19582391181458444, 'C': 0.3941492368569812, 'D': 0.037500000000000006}\n"
     ]
    }
   ],
   "source": [
    "def page_rank(graph, iterations=100, d=0.85):\n",
    "    # Number of nodes\n",
    "    n = len(graph)\n",
    "    \n",
    "    # Initialize each node's rank equally\n",
    "    ranks = {node: 1 / n for node in graph}\n",
    "    \n",
    "    for _ in range(iterations):\n",
    "        new_ranks = {}\n",
    "        for node in graph:\n",
    "            # Calculate the new rank for the current node\n",
    "            rank_sum = sum(ranks[neighbor] / len(graph[neighbor]) for neighbor in graph if node in graph[neighbor])\n",
    "            # Update rank using the damping factor\n",
    "            new_ranks[node] = (1 - d) / n + d * rank_sum\n",
    "        \n",
    "        ranks = new_ranks\n",
    "    \n",
    "    return ranks\n",
    "\n",
    "# Example graph\n",
    "graph = {\n",
    "    \"A\": [\"B\", \"C\"],\n",
    "    \"B\": [\"C\"],\n",
    "    \"C\": [\"A\"],\n",
    "    \"D\": [\"C\"]\n",
    "}\n",
    "\n",
    "# Run PageRank\n",
    "print(\"PageRank scores:\", page_rank(graph))\n"
   ]
  },
  {
   "cell_type": "code",
   "execution_count": null,
   "metadata": {},
   "outputs": [],
   "source": []
  },
  {
   "cell_type": "code",
   "execution_count": null,
   "metadata": {},
   "outputs": [],
   "source": []
  }
 ],
 "metadata": {
  "kernelspec": {
   "display_name": "Python 3",
   "language": "python",
   "name": "python3"
  },
  "language_info": {
   "codemirror_mode": {
    "name": "ipython",
    "version": 3
   },
   "file_extension": ".py",
   "mimetype": "text/x-python",
   "name": "python",
   "nbconvert_exporter": "python",
   "pygments_lexer": "ipython3",
   "version": "3.10.11"
  }
 },
 "nbformat": 4,
 "nbformat_minor": 2
}
