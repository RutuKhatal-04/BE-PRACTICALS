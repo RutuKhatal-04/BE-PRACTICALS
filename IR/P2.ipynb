{
 "cells": [
  {
   "cell_type": "markdown",
   "metadata": {},
   "source": [
    "# Implement a program for retrieval of documents using inverted files."
   ]
  },
  {
   "cell_type": "code",
   "execution_count": 1,
   "metadata": {},
   "outputs": [
    {
     "name": "stdout",
     "output_type": "stream",
     "text": [
      "Inverted Index: {'artificial': [0, 2], 'intelligence': [0, 2], 'transforming': [0], 'industries': [0], 'machine': [1, 3], 'learning': [1, 3], 'allows': [1], 'computers': [1], 'learn': [1], 'without': [1], 'programming': [1], 'diagnose': [2], 'diseases': [2], 'ai': [3], 'revolutionizing': [3], 'technology': [3]}\n",
      "\n",
      "Documents containing 'Artificial Intelligence': [0, 2]\n"
     ]
    },
    {
     "name": "stderr",
     "output_type": "stream",
     "text": [
      "[nltk_data] Downloading package punkt to\n",
      "[nltk_data]     C:\\Users\\khata\\AppData\\Roaming\\nltk_data...\n",
      "[nltk_data]   Package punkt is already up-to-date!\n",
      "[nltk_data] Downloading package stopwords to\n",
      "[nltk_data]     C:\\Users\\khata\\AppData\\Roaming\\nltk_data...\n",
      "[nltk_data]   Package stopwords is already up-to-date!\n"
     ]
    }
   ],
   "source": [
    "# **Imports:**\n",
    "# - `defaultdict` from `collections`: A dictionary subclass that provides a default value for non-existing keys (in this case, a list).\n",
    "# - `nltk`: Natural Language Toolkit for text processing.\n",
    "# - `word_tokenize`: Tokenizes text into words.\n",
    "# - `stopwords`: Contains common words like 'is', 'and', 'the', etc., to be filtered out.\n",
    "\n",
    "from collections import defaultdict\n",
    "import nltk\n",
    "from nltk.tokenize import word_tokenize\n",
    "from nltk.corpus import stopwords\n",
    "\n",
    "# **Download NLTK resources:**\n",
    "# - 'punkt': Data needed for tokenizing text.\n",
    "# - 'stopwords': List of stopwords for English language.\n",
    "nltk.download('punkt')\n",
    "nltk.download('stopwords')\n",
    "\n",
    "def preprocess_text(text):\n",
    "    \"\"\"\n",
    "    Preprocesses text by tokenizing, converting to lowercase, and removing stopwords.\n",
    "    \n",
    "    Parameters:\n",
    "    - text (str): The text to preprocess.\n",
    "    \n",
    "    Returns:\n",
    "    - List of tokens after processing (filtered, lowercased, alphanumeric).\n",
    "    \"\"\"\n",
    "    tokens = word_tokenize(text.lower())  # Tokenize text and convert to lowercase.\n",
    "    stop_words = set(stopwords.words(\"english\"))  # Get English stopwords.\n",
    "    return [token for token in tokens if token.isalnum() and token not in stop_words]  # Filter tokens.\n",
    "\n",
    "def build_inverted_index(documents):\n",
    "    \"\"\"\n",
    "    Builds an inverted index from a list of documents.\n",
    "    \n",
    "    Parameters:\n",
    "    - documents (list of str): List where each item is a document.\n",
    "    \n",
    "    Returns:\n",
    "    - dict: Inverted index mapping terms (tokens) to lists of document IDs where they appear.\n",
    "    \"\"\"\n",
    "    inverted_index = defaultdict(list)  # Initialize a defaultdict to store lists of document IDs.\n",
    "    for doc_id, text in enumerate(documents):  # Iterate over documents with IDs.\n",
    "        tokens = preprocess_text(text)  # Preprocess each document text.\n",
    "        for token in tokens:\n",
    "            if doc_id not in inverted_index[token]:  # Avoid duplicate entries for the same document.\n",
    "                inverted_index[token].append(doc_id)  # Add document ID to the list for the token.\n",
    "    return inverted_index\n",
    "\n",
    "def search_documents(query, inverted_index):\n",
    "    \"\"\"\n",
    "    Searches for documents that contain all terms in the query.\n",
    "    \n",
    "    Parameters:\n",
    "    - query (str): The search query containing terms to find.\n",
    "    - inverted_index (dict): The inverted index mapping terms to document IDs.\n",
    "    \n",
    "    Returns:\n",
    "    - list of int: Sorted list of document IDs that contain all query terms.\n",
    "    \"\"\"\n",
    "    query_tokens = preprocess_text(query)  # Preprocess the search query.\n",
    "    if not query_tokens:  # If no valid query tokens, return an empty list.\n",
    "        return []\n",
    "\n",
    "    # Find sets of document IDs for each query term present in the inverted index.\n",
    "    result_sets = [set(inverted_index[token]) for token in query_tokens if token in inverted_index]\n",
    "    \n",
    "    # Intersect the sets to find documents that contain all query terms.\n",
    "    if result_sets:\n",
    "        result_docs = set.intersection(*result_sets)\n",
    "    else:\n",
    "        result_docs = set()  # No matching documents found.\n",
    "\n",
    "    return sorted(result_docs)  # Return sorted list of document IDs.\n",
    "\n",
    "# **Example Usage:**\n",
    "\n",
    "# List of example documents.\n",
    "documents = [\n",
    "    \"Artificial Intelligence is transforming industries.\",\n",
    "    \"Machine learning allows computers to learn without programming.\",\n",
    "    \"Artificial Intelligence can diagnose diseases.\",\n",
    "    \"Machine learning and AI are revolutionizing technology.\"\n",
    "]\n",
    "\n",
    "# Step 1: Build the inverted index from the list of documents.\n",
    "inverted_index = build_inverted_index(documents)\n",
    "print(\"Inverted Index:\", dict(inverted_index))\n",
    "\n",
    "# Step 2: Search for documents using the inverted index with a query.\n",
    "query = \"Artificial Intelligence\"\n",
    "result = search_documents(query, inverted_index)\n",
    "print(f\"\\nDocuments containing '{query}':\", result)\n",
    "\n",
    "# **Explanation:**\n",
    "# - The inverted index is a dictionary where each token maps to a list of document IDs where it appears.\n",
    "# - The `search_documents()` function finds documents containing all terms from the query by intersecting document ID sets.\n",
    "# - This method is commonly used in search engines and information retrieval systems for efficient text search and indexing.\n"
   ]
  },
  {
   "cell_type": "code",
   "execution_count": null,
   "metadata": {},
   "outputs": [],
   "source": []
  }
 ],
 "metadata": {
  "kernelspec": {
   "display_name": "Python 3",
   "language": "python",
   "name": "python3"
  },
  "language_info": {
   "codemirror_mode": {
    "name": "ipython",
    "version": 3
   },
   "file_extension": ".py",
   "mimetype": "text/x-python",
   "name": "python",
   "nbconvert_exporter": "python",
   "pygments_lexer": "ipython3",
   "version": "3.10.11"
  }
 },
 "nbformat": 4,
 "nbformat_minor": 2
}
